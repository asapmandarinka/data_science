{
 "cells": [
  {
   "cell_type": "code",
   "execution_count": 1,
   "metadata": {},
   "outputs": [],
   "source": [
    "import matplotlib.pyplot as plt\n",
    "import pandas as pd\n",
    "import seaborn"
   ]
  },
  {
   "cell_type": "code",
   "execution_count": 2,
   "metadata": {},
   "outputs": [
    {
     "data": {
      "text/html": [
       "<div>\n",
       "<style scoped>\n",
       "    .dataframe tbody tr th:only-of-type {\n",
       "        vertical-align: middle;\n",
       "    }\n",
       "\n",
       "    .dataframe tbody tr th {\n",
       "        vertical-align: top;\n",
       "    }\n",
       "\n",
       "    .dataframe thead th {\n",
       "        text-align: right;\n",
       "    }\n",
       "</style>\n",
       "<table border=\"1\" class=\"dataframe\">\n",
       "  <thead>\n",
       "    <tr style=\"text-align: right;\">\n",
       "      <th></th>\n",
       "      <th>Age</th>\n",
       "      <th>Gender</th>\n",
       "      <th>Impressions</th>\n",
       "      <th>Clicks</th>\n",
       "      <th>Signed_In</th>\n",
       "    </tr>\n",
       "  </thead>\n",
       "  <tbody>\n",
       "    <tr>\n",
       "      <th>0</th>\n",
       "      <td>36</td>\n",
       "      <td>0</td>\n",
       "      <td>3</td>\n",
       "      <td>0</td>\n",
       "      <td>1</td>\n",
       "    </tr>\n",
       "    <tr>\n",
       "      <th>1</th>\n",
       "      <td>73</td>\n",
       "      <td>1</td>\n",
       "      <td>3</td>\n",
       "      <td>0</td>\n",
       "      <td>1</td>\n",
       "    </tr>\n",
       "    <tr>\n",
       "      <th>2</th>\n",
       "      <td>30</td>\n",
       "      <td>0</td>\n",
       "      <td>3</td>\n",
       "      <td>0</td>\n",
       "      <td>1</td>\n",
       "    </tr>\n",
       "    <tr>\n",
       "      <th>3</th>\n",
       "      <td>49</td>\n",
       "      <td>1</td>\n",
       "      <td>3</td>\n",
       "      <td>0</td>\n",
       "      <td>1</td>\n",
       "    </tr>\n",
       "    <tr>\n",
       "      <th>4</th>\n",
       "      <td>47</td>\n",
       "      <td>1</td>\n",
       "      <td>11</td>\n",
       "      <td>0</td>\n",
       "      <td>1</td>\n",
       "    </tr>\n",
       "    <tr>\n",
       "      <th>...</th>\n",
       "      <td>...</td>\n",
       "      <td>...</td>\n",
       "      <td>...</td>\n",
       "      <td>...</td>\n",
       "      <td>...</td>\n",
       "    </tr>\n",
       "    <tr>\n",
       "      <th>458436</th>\n",
       "      <td>0</td>\n",
       "      <td>0</td>\n",
       "      <td>2</td>\n",
       "      <td>0</td>\n",
       "      <td>0</td>\n",
       "    </tr>\n",
       "    <tr>\n",
       "      <th>458437</th>\n",
       "      <td>0</td>\n",
       "      <td>0</td>\n",
       "      <td>4</td>\n",
       "      <td>0</td>\n",
       "      <td>0</td>\n",
       "    </tr>\n",
       "    <tr>\n",
       "      <th>458438</th>\n",
       "      <td>72</td>\n",
       "      <td>1</td>\n",
       "      <td>5</td>\n",
       "      <td>0</td>\n",
       "      <td>1</td>\n",
       "    </tr>\n",
       "    <tr>\n",
       "      <th>458439</th>\n",
       "      <td>0</td>\n",
       "      <td>0</td>\n",
       "      <td>5</td>\n",
       "      <td>0</td>\n",
       "      <td>0</td>\n",
       "    </tr>\n",
       "    <tr>\n",
       "      <th>458440</th>\n",
       "      <td>0</td>\n",
       "      <td>0</td>\n",
       "      <td>3</td>\n",
       "      <td>0</td>\n",
       "      <td>0</td>\n",
       "    </tr>\n",
       "  </tbody>\n",
       "</table>\n",
       "<p>458441 rows × 5 columns</p>\n",
       "</div>"
      ],
      "text/plain": [
       "        Age  Gender  Impressions  Clicks  Signed_In\n",
       "0        36       0            3       0          1\n",
       "1        73       1            3       0          1\n",
       "2        30       0            3       0          1\n",
       "3        49       1            3       0          1\n",
       "4        47       1           11       0          1\n",
       "...     ...     ...          ...     ...        ...\n",
       "458436    0       0            2       0          0\n",
       "458437    0       0            4       0          0\n",
       "458438   72       1            5       0          1\n",
       "458439    0       0            5       0          0\n",
       "458440    0       0            3       0          0\n",
       "\n",
       "[458441 rows x 5 columns]"
      ]
     },
     "execution_count": 2,
     "metadata": {},
     "output_type": "execute_result"
    }
   ],
   "source": [
    "data = pd.read_csv(\"./data/nyt1.csv\")\n",
    "data"
   ]
  },
  {
   "cell_type": "code",
   "execution_count": 3,
   "metadata": {},
   "outputs": [
    {
     "data": {
      "text/plain": [
       "array([ 36,  73,  30,  49,  47,   0,  46,  16,  52,  21,  57,  31,  40,\n",
       "        38,  59,  61,  48,  29,  19,  23,  66,  44,  32,  22,  74,  65,\n",
       "        63,  35,  33,  34,  43,  18,  17,  62,  27,  11,  42,  41,  14,\n",
       "        64,  24,  26,  39,  71,  45,  28,  83,  79,  67,  51,  60,  58,\n",
       "        53,  25,  50,  76,  15,  78,  55,  37,  56,  77,  85,  82,  13,\n",
       "        70,  84,  54,  20,  10,  81,  68,  72,  69,  87,  80,  88,  12,\n",
       "        86,  75,  89,   9,  96, 102,  98,  90,  99,  91,  92,  95,   8,\n",
       "        94,  93,  97,   7, 100, 103, 107, 101, 108, 104], dtype=int64)"
      ]
     },
     "execution_count": 3,
     "metadata": {},
     "output_type": "execute_result"
    }
   ],
   "source": [
    "data.Age.unique()"
   ]
  },
  {
   "cell_type": "code",
   "execution_count": 4,
   "metadata": {},
   "outputs": [
    {
     "data": {
      "text/plain": [
       "Age            0\n",
       "Gender         0\n",
       "Impressions    0\n",
       "Clicks         0\n",
       "Signed_In      0\n",
       "dtype: int64"
      ]
     },
     "execution_count": 4,
     "metadata": {},
     "output_type": "execute_result"
    }
   ],
   "source": [
    "data.isnull().sum()"
   ]
  },
  {
   "cell_type": "code",
   "execution_count": 5,
   "metadata": {},
   "outputs": [
    {
     "name": "stdout",
     "output_type": "stream",
     "text": [
      "<class 'pandas.core.frame.DataFrame'>\n",
      "RangeIndex: 458441 entries, 0 to 458440\n",
      "Data columns (total 5 columns):\n",
      " #   Column       Non-Null Count   Dtype\n",
      "---  ------       --------------   -----\n",
      " 0   Age          458441 non-null  int64\n",
      " 1   Gender       458441 non-null  int64\n",
      " 2   Impressions  458441 non-null  int64\n",
      " 3   Clicks       458441 non-null  int64\n",
      " 4   Signed_In    458441 non-null  int64\n",
      "dtypes: int64(5)\n",
      "memory usage: 17.5 MB\n"
     ]
    }
   ],
   "source": [
    "data.info()"
   ]
  },
  {
   "cell_type": "code",
   "execution_count": 6,
   "metadata": {},
   "outputs": [
    {
     "data": {
      "text/html": [
       "<div>\n",
       "<style scoped>\n",
       "    .dataframe tbody tr th:only-of-type {\n",
       "        vertical-align: middle;\n",
       "    }\n",
       "\n",
       "    .dataframe tbody tr th {\n",
       "        vertical-align: top;\n",
       "    }\n",
       "\n",
       "    .dataframe thead th {\n",
       "        text-align: right;\n",
       "    }\n",
       "</style>\n",
       "<table border=\"1\" class=\"dataframe\">\n",
       "  <thead>\n",
       "    <tr style=\"text-align: right;\">\n",
       "      <th></th>\n",
       "      <th>Gender</th>\n",
       "      <th>Impressions</th>\n",
       "      <th>Clicks</th>\n",
       "      <th>Signed_In</th>\n",
       "    </tr>\n",
       "    <tr>\n",
       "      <th>Age</th>\n",
       "      <th></th>\n",
       "      <th></th>\n",
       "      <th></th>\n",
       "      <th></th>\n",
       "    </tr>\n",
       "  </thead>\n",
       "  <tbody>\n",
       "    <tr>\n",
       "      <th>0</th>\n",
       "      <td>137106</td>\n",
       "      <td>137106</td>\n",
       "      <td>137106</td>\n",
       "      <td>137106</td>\n",
       "    </tr>\n",
       "  </tbody>\n",
       "</table>\n",
       "</div>"
      ],
      "text/plain": [
       "     Gender  Impressions  Clicks  Signed_In\n",
       "Age                                        \n",
       "0    137106       137106  137106     137106"
      ]
     },
     "execution_count": 6,
     "metadata": {},
     "output_type": "execute_result"
    }
   ],
   "source": [
    "data[data.Age == 0].groupby(\"Age\").count()"
   ]
  },
  {
   "cell_type": "code",
   "execution_count": 7,
   "metadata": {},
   "outputs": [
    {
     "data": {
      "text/plain": [
       "<AxesSubplot: >"
      ]
     },
     "execution_count": 7,
     "metadata": {},
     "output_type": "execute_result"
    },
    {
     "data": {
      "image/png": "[encoded data removed]",
      "text/plain": [
       "<Figure size 640x480 with 1 Axes>"
      ]
     },
     "metadata": {},
     "output_type": "display_data"
    }
   ],
   "source": [
    "data_no_null_age = data[(data.Age > 0)]\n",
    "data_no_null_age.Age.hist()"
   ]
  },
  {
   "cell_type": "code",
   "execution_count": 8,
   "metadata": {},
   "outputs": [
    {
     "data": {
      "text/plain": [
       "array([1], dtype=int64)"
      ]
     },
     "execution_count": 8,
     "metadata": {},
     "output_type": "execute_result"
    }
   ],
   "source": [
    "data_no_null_age.Signed_In.unique()"
   ]
  },
  {
   "cell_type": "code",
   "execution_count": 9,
   "metadata": {},
   "outputs": [
    {
     "name": "stderr",
     "output_type": "stream",
     "text": [
      "C:\\Users\\awaqi\\AppData\\Local\\Temp\\ipykernel_9468\\2512628165.py:27: SettingWithCopyWarning: \n",
      "A value is trying to be set on a copy of a slice from a DataFrame.\n",
      "Try using .loc[row_indexer,col_indexer] = value instead\n",
      "\n",
      "See the caveats in the documentation: https://pandas.pydata.org/pandas-docs/stable/user_guide/indexing.html#returning-a-view-versus-a-copy\n",
      "  data_by_groups['AgeGroup'] = data_no_null_age.Age.apply(lambda row: extract_age_group(row))\n"
     ]
    },
    {
     "data": {
      "text/html": [
       "<div>\n",
       "<style scoped>\n",
       "    .dataframe tbody tr th:only-of-type {\n",
       "        vertical-align: middle;\n",
       "    }\n",
       "\n",
       "    .dataframe tbody tr th {\n",
       "        vertical-align: top;\n",
       "    }\n",
       "\n",
       "    .dataframe thead th {\n",
       "        text-align: right;\n",
       "    }\n",
       "</style>\n",
       "<table border=\"1\" class=\"dataframe\">\n",
       "  <thead>\n",
       "    <tr style=\"text-align: right;\">\n",
       "      <th></th>\n",
       "      <th>Age</th>\n",
       "      <th>Gender</th>\n",
       "      <th>Impressions</th>\n",
       "      <th>Clicks</th>\n",
       "      <th>Signed_In</th>\n",
       "      <th>AgeGroup</th>\n",
       "    </tr>\n",
       "  </thead>\n",
       "  <tbody>\n",
       "    <tr>\n",
       "      <th>126116</th>\n",
       "      <td>14</td>\n",
       "      <td>0</td>\n",
       "      <td>6</td>\n",
       "      <td>1</td>\n",
       "      <td>1</td>\n",
       "      <td>0-18</td>\n",
       "    </tr>\n",
       "    <tr>\n",
       "      <th>88789</th>\n",
       "      <td>16</td>\n",
       "      <td>0</td>\n",
       "      <td>5</td>\n",
       "      <td>1</td>\n",
       "      <td>1</td>\n",
       "      <td>0-18</td>\n",
       "    </tr>\n",
       "    <tr>\n",
       "      <th>27364</th>\n",
       "      <td>13</td>\n",
       "      <td>0</td>\n",
       "      <td>4</td>\n",
       "      <td>0</td>\n",
       "      <td>1</td>\n",
       "      <td>0-18</td>\n",
       "    </tr>\n",
       "    <tr>\n",
       "      <th>258237</th>\n",
       "      <td>16</td>\n",
       "      <td>1</td>\n",
       "      <td>9</td>\n",
       "      <td>1</td>\n",
       "      <td>1</td>\n",
       "      <td>0-18</td>\n",
       "    </tr>\n",
       "    <tr>\n",
       "      <th>176132</th>\n",
       "      <td>16</td>\n",
       "      <td>0</td>\n",
       "      <td>3</td>\n",
       "      <td>1</td>\n",
       "      <td>1</td>\n",
       "      <td>0-18</td>\n",
       "    </tr>\n",
       "    <tr>\n",
       "      <th>...</th>\n",
       "      <td>...</td>\n",
       "      <td>...</td>\n",
       "      <td>...</td>\n",
       "      <td>...</td>\n",
       "      <td>...</td>\n",
       "      <td>...</td>\n",
       "    </tr>\n",
       "    <tr>\n",
       "      <th>59722</th>\n",
       "      <td>76</td>\n",
       "      <td>1</td>\n",
       "      <td>5</td>\n",
       "      <td>0</td>\n",
       "      <td>1</td>\n",
       "      <td>65+</td>\n",
       "    </tr>\n",
       "    <tr>\n",
       "      <th>110034</th>\n",
       "      <td>66</td>\n",
       "      <td>0</td>\n",
       "      <td>7</td>\n",
       "      <td>0</td>\n",
       "      <td>1</td>\n",
       "      <td>65+</td>\n",
       "    </tr>\n",
       "    <tr>\n",
       "      <th>425908</th>\n",
       "      <td>66</td>\n",
       "      <td>0</td>\n",
       "      <td>6</td>\n",
       "      <td>0</td>\n",
       "      <td>1</td>\n",
       "      <td>65+</td>\n",
       "    </tr>\n",
       "    <tr>\n",
       "      <th>425939</th>\n",
       "      <td>73</td>\n",
       "      <td>0</td>\n",
       "      <td>5</td>\n",
       "      <td>0</td>\n",
       "      <td>1</td>\n",
       "      <td>65+</td>\n",
       "    </tr>\n",
       "    <tr>\n",
       "      <th>458438</th>\n",
       "      <td>72</td>\n",
       "      <td>1</td>\n",
       "      <td>5</td>\n",
       "      <td>0</td>\n",
       "      <td>1</td>\n",
       "      <td>65+</td>\n",
       "    </tr>\n",
       "  </tbody>\n",
       "</table>\n",
       "<p>321335 rows × 6 columns</p>\n",
       "</div>"
      ],
      "text/plain": [
       "        Age  Gender  Impressions  Clicks  Signed_In AgeGroup\n",
       "126116   14       0            6       1          1     0-18\n",
       "88789    16       0            5       1          1     0-18\n",
       "27364    13       0            4       0          1     0-18\n",
       "258237   16       1            9       1          1     0-18\n",
       "176132   16       0            3       1          1     0-18\n",
       "...     ...     ...          ...     ...        ...      ...\n",
       "59722    76       1            5       0          1      65+\n",
       "110034   66       0            7       0          1      65+\n",
       "425908   66       0            6       0          1      65+\n",
       "425939   73       0            5       0          1      65+\n",
       "458438   72       1            5       0          1      65+\n",
       "\n",
       "[321335 rows x 6 columns]"
      ]
     },
     "execution_count": 9,
     "metadata": {},
     "output_type": "execute_result"
    }
   ],
   "source": [
    "def extract_age_group(age):\n",
    "    match age:\n",
    "        case x if x < 18:\n",
    "            return \"0-18\"\n",
    "        case x if 18 <= x <= 24:\n",
    "            return \"18-24\"\n",
    "        case x if 25 <= x <= 34:\n",
    "            return \"25-34\"\n",
    "        case x if 35 <= x <= 44:\n",
    "            return \"35-44\"\n",
    "        case x if 45 <= x <= 54:\n",
    "            return \"45-54\"\n",
    "        case x if 55 <= x <= 64:\n",
    "            return \"55-64\"\n",
    "        case x if x >= 65:\n",
    "            return \"65+\"\n",
    "\n",
    "\n",
    "def extract_gender(gender):\n",
    "    if gender == 0:\n",
    "        return \"Female\"\n",
    "    else:\n",
    "        return \"Male\"\n",
    "\n",
    "\n",
    "data_by_groups = data_no_null_age\n",
    "data_by_groups['AgeGroup'] = data_no_null_age.Age.apply(lambda row: extract_age_group(row))\n",
    "data_by_groups = data_by_groups.sort_values(by=['AgeGroup'])\n",
    "data_by_groups"
   ]
  },
  {
   "cell_type": "code",
   "execution_count": 10,
   "metadata": {},
   "outputs": [
    {
     "data": {
      "text/plain": [
       "<AxesSubplot: xlabel='AgeGroup', ylabel='Clicks'>"
      ]
     },
     "execution_count": 10,
     "metadata": {},
     "output_type": "execute_result"
    },
    {
     "data": {
      "image/png": "[encoded data removed]",
      "text/plain": [
       "<Figure size 640x480 with 1 Axes>"
      ]
     },
     "metadata": {},
     "output_type": "display_data"
    }
   ],
   "source": [
    "fig = plt.figure()\n",
    "ax = fig.add_subplot(111)\n",
    "seaborn.barplot(data=data_by_groups, x=data_by_groups.AgeGroup, y=data_by_groups.Clicks)"
   ]
  },
  {
   "cell_type": "code",
   "execution_count": 11,
   "metadata": {},
   "outputs": [
    {
     "data": {
      "text/plain": [
       "<AxesSubplot: xlabel='AgeGroup', ylabel='Clicks'>"
      ]
     },
     "execution_count": 11,
     "metadata": {},
     "output_type": "execute_result"
    },
    {
     "data": {
      "image/png": "[encoded data removed]",
      "text/plain": [
       "<Figure size 640x480 with 1 Axes>"
      ]
     },
     "metadata": {},
     "output_type": "display_data"
    }
   ],
   "source": [
    "fig = plt.figure()\n",
    "ax = fig.add_subplot(111)\n",
    "seaborn.barplot(data=data_by_groups,\n",
    "                x=data_by_groups.AgeGroup,\n",
    "                y=data_by_groups.Clicks,\n",
    "                hue=data_by_groups.Gender)"
   ]
  },
  {
   "cell_type": "code",
   "execution_count": 12,
   "metadata": {},
   "outputs": [
    {
     "data": {
      "text/html": [
       "<div>\n",
       "<style scoped>\n",
       "    .dataframe tbody tr th:only-of-type {\n",
       "        vertical-align: middle;\n",
       "    }\n",
       "\n",
       "    .dataframe tbody tr th {\n",
       "        vertical-align: top;\n",
       "    }\n",
       "\n",
       "    .dataframe thead th {\n",
       "        text-align: right;\n",
       "    }\n",
       "</style>\n",
       "<table border=\"1\" class=\"dataframe\">\n",
       "  <thead>\n",
       "    <tr style=\"text-align: right;\">\n",
       "      <th></th>\n",
       "      <th>AgeGroup</th>\n",
       "      <th>Age</th>\n",
       "      <th>Gender</th>\n",
       "      <th>Impressions</th>\n",
       "      <th>Clicks</th>\n",
       "      <th>Signed_In</th>\n",
       "      <th>CTR</th>\n",
       "    </tr>\n",
       "  </thead>\n",
       "  <tbody>\n",
       "    <tr>\n",
       "      <th>0</th>\n",
       "      <td>0-18</td>\n",
       "      <td>211045</td>\n",
       "      <td>9470</td>\n",
       "      <td>69239</td>\n",
       "      <td>2065</td>\n",
       "      <td>13828</td>\n",
       "      <td>0.029824</td>\n",
       "    </tr>\n",
       "    <tr>\n",
       "      <th>1</th>\n",
       "      <td>18-24</td>\n",
       "      <td>847791</td>\n",
       "      <td>21721</td>\n",
       "      <td>203585</td>\n",
       "      <td>2167</td>\n",
       "      <td>40694</td>\n",
       "      <td>0.010644</td>\n",
       "    </tr>\n",
       "    <tr>\n",
       "      <th>2</th>\n",
       "      <td>25-34</td>\n",
       "      <td>1716328</td>\n",
       "      <td>30958</td>\n",
       "      <td>290511</td>\n",
       "      <td>2937</td>\n",
       "      <td>58174</td>\n",
       "      <td>0.010110</td>\n",
       "    </tr>\n",
       "    <tr>\n",
       "      <th>3</th>\n",
       "      <td>35-44</td>\n",
       "      <td>2798593</td>\n",
       "      <td>37676</td>\n",
       "      <td>355824</td>\n",
       "      <td>3662</td>\n",
       "      <td>70860</td>\n",
       "      <td>0.010292</td>\n",
       "    </tr>\n",
       "    <tr>\n",
       "      <th>4</th>\n",
       "      <td>45-54</td>\n",
       "      <td>3181779</td>\n",
       "      <td>34007</td>\n",
       "      <td>322109</td>\n",
       "      <td>3232</td>\n",
       "      <td>64288</td>\n",
       "      <td>0.010034</td>\n",
       "    </tr>\n",
       "    <tr>\n",
       "      <th>5</th>\n",
       "      <td>55-64</td>\n",
       "      <td>2661830</td>\n",
       "      <td>23988</td>\n",
       "      <td>224688</td>\n",
       "      <td>4556</td>\n",
       "      <td>44738</td>\n",
       "      <td>0.020277</td>\n",
       "    </tr>\n",
       "    <tr>\n",
       "      <th>6</th>\n",
       "      <td>65+</td>\n",
       "      <td>2098644</td>\n",
       "      <td>10445</td>\n",
       "      <td>144120</td>\n",
       "      <td>4350</td>\n",
       "      <td>28753</td>\n",
       "      <td>0.030183</td>\n",
       "    </tr>\n",
       "  </tbody>\n",
       "</table>\n",
       "</div>"
      ],
      "text/plain": [
       "  AgeGroup      Age  Gender  Impressions  Clicks  Signed_In       CTR\n",
       "0     0-18   211045    9470        69239    2065      13828  0.029824\n",
       "1    18-24   847791   21721       203585    2167      40694  0.010644\n",
       "2    25-34  1716328   30958       290511    2937      58174  0.010110\n",
       "3    35-44  2798593   37676       355824    3662      70860  0.010292\n",
       "4    45-54  3181779   34007       322109    3232      64288  0.010034\n",
       "5    55-64  2661830   23988       224688    4556      44738  0.020277\n",
       "6      65+  2098644   10445       144120    4350      28753  0.030183"
      ]
     },
     "execution_count": 12,
     "metadata": {},
     "output_type": "execute_result"
    }
   ],
   "source": [
    "data_ctr = data_by_groups.groupby('AgeGroup', as_index=False).sum()\n",
    "data_ctr['CTR'] = data_ctr.Clicks / data_ctr.Impressions\n",
    "data_ctr"
   ]
  },
  {
   "cell_type": "code",
   "execution_count": 13,
   "metadata": {},
   "outputs": [
    {
     "data": {
      "text/plain": [
       "<AxesSubplot: xlabel='AgeGroup', ylabel='CTR'>"
      ]
     },
     "execution_count": 13,
     "metadata": {},
     "output_type": "execute_result"
    },
    {
     "data": {
      "image/png": "[encoded data removed]",
      "text/plain": [
       "<Figure size 640x480 with 1 Axes>"
      ]
     },
     "metadata": {},
     "output_type": "display_data"
    }
   ],
   "source": [
    "fig = plt.figure()\n",
    "ax = fig.add_subplot(111)\n",
    "seaborn.barplot(data=data_ctr,\n",
    "                x=data_ctr.AgeGroup,\n",
    "                y=data_ctr.CTR)"
   ]
  },
  {
   "cell_type": "code",
   "execution_count": 14,
   "metadata": {},
   "outputs": [
    {
     "data": {
      "text/html": [
       "<div>\n",
       "<style scoped>\n",
       "    .dataframe tbody tr th:only-of-type {\n",
       "        vertical-align: middle;\n",
       "    }\n",
       "\n",
       "    .dataframe tbody tr th {\n",
       "        vertical-align: top;\n",
       "    }\n",
       "\n",
       "    .dataframe thead th {\n",
       "        text-align: right;\n",
       "    }\n",
       "</style>\n",
       "<table border=\"1\" class=\"dataframe\">\n",
       "  <thead>\n",
       "    <tr style=\"text-align: right;\">\n",
       "      <th></th>\n",
       "      <th>Age</th>\n",
       "      <th>Gender</th>\n",
       "      <th>Impressions</th>\n",
       "      <th>Clicks</th>\n",
       "      <th>AgeGroup</th>\n",
       "    </tr>\n",
       "  </thead>\n",
       "  <tbody>\n",
       "    <tr>\n",
       "      <th>420819</th>\n",
       "      <td>21</td>\n",
       "      <td>1</td>\n",
       "      <td>5</td>\n",
       "      <td>0</td>\n",
       "      <td>18-24</td>\n",
       "    </tr>\n",
       "    <tr>\n",
       "      <th>202699</th>\n",
       "      <td>23</td>\n",
       "      <td>0</td>\n",
       "      <td>7</td>\n",
       "      <td>0</td>\n",
       "      <td>18-24</td>\n",
       "    </tr>\n",
       "    <tr>\n",
       "      <th>345979</th>\n",
       "      <td>21</td>\n",
       "      <td>0</td>\n",
       "      <td>7</td>\n",
       "      <td>0</td>\n",
       "      <td>18-24</td>\n",
       "    </tr>\n",
       "    <tr>\n",
       "      <th>420672</th>\n",
       "      <td>21</td>\n",
       "      <td>0</td>\n",
       "      <td>4</td>\n",
       "      <td>0</td>\n",
       "      <td>18-24</td>\n",
       "    </tr>\n",
       "    <tr>\n",
       "      <th>68882</th>\n",
       "      <td>19</td>\n",
       "      <td>0</td>\n",
       "      <td>4</td>\n",
       "      <td>0</td>\n",
       "      <td>18-24</td>\n",
       "    </tr>\n",
       "    <tr>\n",
       "      <th>...</th>\n",
       "      <td>...</td>\n",
       "      <td>...</td>\n",
       "      <td>...</td>\n",
       "      <td>...</td>\n",
       "      <td>...</td>\n",
       "    </tr>\n",
       "    <tr>\n",
       "      <th>59722</th>\n",
       "      <td>76</td>\n",
       "      <td>1</td>\n",
       "      <td>5</td>\n",
       "      <td>0</td>\n",
       "      <td>65+</td>\n",
       "    </tr>\n",
       "    <tr>\n",
       "      <th>110034</th>\n",
       "      <td>66</td>\n",
       "      <td>0</td>\n",
       "      <td>7</td>\n",
       "      <td>0</td>\n",
       "      <td>65+</td>\n",
       "    </tr>\n",
       "    <tr>\n",
       "      <th>425908</th>\n",
       "      <td>66</td>\n",
       "      <td>0</td>\n",
       "      <td>6</td>\n",
       "      <td>0</td>\n",
       "      <td>65+</td>\n",
       "    </tr>\n",
       "    <tr>\n",
       "      <th>425939</th>\n",
       "      <td>73</td>\n",
       "      <td>0</td>\n",
       "      <td>5</td>\n",
       "      <td>0</td>\n",
       "      <td>65+</td>\n",
       "    </tr>\n",
       "    <tr>\n",
       "      <th>458438</th>\n",
       "      <td>72</td>\n",
       "      <td>1</td>\n",
       "      <td>5</td>\n",
       "      <td>0</td>\n",
       "      <td>65+</td>\n",
       "    </tr>\n",
       "  </tbody>\n",
       "</table>\n",
       "<p>302083 rows × 5 columns</p>\n",
       "</div>"
      ],
      "text/plain": [
       "        Age  Gender  Impressions  Clicks AgeGroup\n",
       "420819   21       1            5       0    18-24\n",
       "202699   23       0            7       0    18-24\n",
       "345979   21       0            7       0    18-24\n",
       "420672   21       0            4       0    18-24\n",
       "68882    19       0            4       0    18-24\n",
       "...     ...     ...          ...     ...      ...\n",
       "59722    76       1            5       0      65+\n",
       "110034   66       0            7       0      65+\n",
       "425908   66       0            6       0      65+\n",
       "425939   73       0            5       0      65+\n",
       "458438   72       1            5       0      65+\n",
       "\n",
       "[302083 rows x 5 columns]"
      ]
     },
     "execution_count": 14,
     "metadata": {},
     "output_type": "execute_result"
    }
   ],
   "source": [
    "lab_data = data_by_groups[data_by_groups.Age > 18].drop(columns=\"Signed_In\")\n",
    "lab_data"
   ]
  },
  {
   "cell_type": "code",
   "execution_count": 15,
   "metadata": {},
   "outputs": [
    {
     "data": {
      "text/html": [
       "<div>\n",
       "<style scoped>\n",
       "    .dataframe tbody tr th:only-of-type {\n",
       "        vertical-align: middle;\n",
       "    }\n",
       "\n",
       "    .dataframe tbody tr th {\n",
       "        vertical-align: top;\n",
       "    }\n",
       "\n",
       "    .dataframe thead th {\n",
       "        text-align: right;\n",
       "    }\n",
       "</style>\n",
       "<table border=\"1\" class=\"dataframe\">\n",
       "  <thead>\n",
       "    <tr style=\"text-align: right;\">\n",
       "      <th></th>\n",
       "      <th>Age</th>\n",
       "      <th>Gender</th>\n",
       "      <th>Impressions</th>\n",
       "      <th>Clicks</th>\n",
       "      <th>AgeGroup</th>\n",
       "      <th>CTR</th>\n",
       "    </tr>\n",
       "  </thead>\n",
       "  <tbody>\n",
       "    <tr>\n",
       "      <th>420819</th>\n",
       "      <td>21</td>\n",
       "      <td>Male</td>\n",
       "      <td>5</td>\n",
       "      <td>0</td>\n",
       "      <td>18-24</td>\n",
       "      <td>0.0</td>\n",
       "    </tr>\n",
       "    <tr>\n",
       "      <th>202699</th>\n",
       "      <td>23</td>\n",
       "      <td>Female</td>\n",
       "      <td>7</td>\n",
       "      <td>0</td>\n",
       "      <td>18-24</td>\n",
       "      <td>0.0</td>\n",
       "    </tr>\n",
       "    <tr>\n",
       "      <th>345979</th>\n",
       "      <td>21</td>\n",
       "      <td>Female</td>\n",
       "      <td>7</td>\n",
       "      <td>0</td>\n",
       "      <td>18-24</td>\n",
       "      <td>0.0</td>\n",
       "    </tr>\n",
       "    <tr>\n",
       "      <th>420672</th>\n",
       "      <td>21</td>\n",
       "      <td>Female</td>\n",
       "      <td>4</td>\n",
       "      <td>0</td>\n",
       "      <td>18-24</td>\n",
       "      <td>0.0</td>\n",
       "    </tr>\n",
       "    <tr>\n",
       "      <th>68882</th>\n",
       "      <td>19</td>\n",
       "      <td>Female</td>\n",
       "      <td>4</td>\n",
       "      <td>0</td>\n",
       "      <td>18-24</td>\n",
       "      <td>0.0</td>\n",
       "    </tr>\n",
       "    <tr>\n",
       "      <th>...</th>\n",
       "      <td>...</td>\n",
       "      <td>...</td>\n",
       "      <td>...</td>\n",
       "      <td>...</td>\n",
       "      <td>...</td>\n",
       "      <td>...</td>\n",
       "    </tr>\n",
       "    <tr>\n",
       "      <th>59722</th>\n",
       "      <td>76</td>\n",
       "      <td>Male</td>\n",
       "      <td>5</td>\n",
       "      <td>0</td>\n",
       "      <td>65+</td>\n",
       "      <td>0.0</td>\n",
       "    </tr>\n",
       "    <tr>\n",
       "      <th>110034</th>\n",
       "      <td>66</td>\n",
       "      <td>Female</td>\n",
       "      <td>7</td>\n",
       "      <td>0</td>\n",
       "      <td>65+</td>\n",
       "      <td>0.0</td>\n",
       "    </tr>\n",
       "    <tr>\n",
       "      <th>425908</th>\n",
       "      <td>66</td>\n",
       "      <td>Female</td>\n",
       "      <td>6</td>\n",
       "      <td>0</td>\n",
       "      <td>65+</td>\n",
       "      <td>0.0</td>\n",
       "    </tr>\n",
       "    <tr>\n",
       "      <th>425939</th>\n",
       "      <td>73</td>\n",
       "      <td>Female</td>\n",
       "      <td>5</td>\n",
       "      <td>0</td>\n",
       "      <td>65+</td>\n",
       "      <td>0.0</td>\n",
       "    </tr>\n",
       "    <tr>\n",
       "      <th>458438</th>\n",
       "      <td>72</td>\n",
       "      <td>Male</td>\n",
       "      <td>5</td>\n",
       "      <td>0</td>\n",
       "      <td>65+</td>\n",
       "      <td>0.0</td>\n",
       "    </tr>\n",
       "  </tbody>\n",
       "</table>\n",
       "<p>302083 rows × 6 columns</p>\n",
       "</div>"
      ],
      "text/plain": [
       "        Age  Gender  Impressions  Clicks AgeGroup  CTR\n",
       "420819   21    Male            5       0    18-24  0.0\n",
       "202699   23  Female            7       0    18-24  0.0\n",
       "345979   21  Female            7       0    18-24  0.0\n",
       "420672   21  Female            4       0    18-24  0.0\n",
       "68882    19  Female            4       0    18-24  0.0\n",
       "...     ...     ...          ...     ...      ...  ...\n",
       "59722    76    Male            5       0      65+  0.0\n",
       "110034   66  Female            7       0      65+  0.0\n",
       "425908   66  Female            6       0      65+  0.0\n",
       "425939   73  Female            5       0      65+  0.0\n",
       "458438   72    Male            5       0      65+  0.0\n",
       "\n",
       "[302083 rows x 6 columns]"
      ]
     },
     "execution_count": 15,
     "metadata": {},
     "output_type": "execute_result"
    }
   ],
   "source": [
    "lab_data[\"Gender\"] = lab_data.Gender.apply(lambda row: extract_gender(row))\n",
    "lab_data['CTR'] = lab_data.Clicks / lab_data.Impressions\n",
    "lab_data"
   ]
  },
  {
   "cell_type": "code",
   "execution_count": 16,
   "metadata": {},
   "outputs": [
    {
     "data": {
      "text/plain": [
       "AgeGroup\n",
       "18-24    0.009720\n",
       "25-34    0.010146\n",
       "35-44    0.010286\n",
       "45-54    0.009958\n",
       "55-64    0.020307\n",
       "65+      0.029803\n",
       "Name: CTR, dtype: float64"
      ]
     },
     "execution_count": 16,
     "metadata": {},
     "output_type": "execute_result"
    }
   ],
   "source": [
    "lab_data.groupby('AgeGroup').CTR.mean()"
   ]
  },
  {
   "cell_type": "code",
   "execution_count": 17,
   "metadata": {},
   "outputs": [
    {
     "name": "stderr",
     "output_type": "stream",
     "text": [
      "C:\\Users\\awaqi\\AppData\\Local\\Temp\\ipykernel_9468\\2961734549.py:1: FutureWarning: The default value of numeric_only in DataFrameGroupBy.mean is deprecated. In a future version, numeric_only will default to False. Either specify numeric_only or select only columns which should be valid for the function.\n",
      "  result_data = lab_data.groupby(\"AgeGroup\").mean()\n"
     ]
    },
    {
     "data": {
      "text/html": [
       "<div>\n",
       "<style scoped>\n",
       "    .dataframe tbody tr th:only-of-type {\n",
       "        vertical-align: middle;\n",
       "    }\n",
       "\n",
       "    .dataframe tbody tr th {\n",
       "        vertical-align: top;\n",
       "    }\n",
       "\n",
       "    .dataframe thead th {\n",
       "        text-align: right;\n",
       "    }\n",
       "</style>\n",
       "<table border=\"1\" class=\"dataframe\">\n",
       "  <thead>\n",
       "    <tr style=\"text-align: right;\">\n",
       "      <th></th>\n",
       "      <th>Impressions mean</th>\n",
       "      <th>Clicks mean</th>\n",
       "      <th>CTR</th>\n",
       "    </tr>\n",
       "    <tr>\n",
       "      <th>AgeGroup</th>\n",
       "      <th></th>\n",
       "      <th></th>\n",
       "      <th></th>\n",
       "    </tr>\n",
       "  </thead>\n",
       "  <tbody>\n",
       "    <tr>\n",
       "      <th>18-24</th>\n",
       "      <td>5.006635</td>\n",
       "      <td>0.048455</td>\n",
       "      <td>0.009720</td>\n",
       "    </tr>\n",
       "    <tr>\n",
       "      <th>25-34</th>\n",
       "      <td>4.993829</td>\n",
       "      <td>0.050486</td>\n",
       "      <td>0.010146</td>\n",
       "    </tr>\n",
       "    <tr>\n",
       "      <th>35-44</th>\n",
       "      <td>5.021507</td>\n",
       "      <td>0.051679</td>\n",
       "      <td>0.010286</td>\n",
       "    </tr>\n",
       "    <tr>\n",
       "      <th>45-54</th>\n",
       "      <td>5.010406</td>\n",
       "      <td>0.050274</td>\n",
       "      <td>0.009958</td>\n",
       "    </tr>\n",
       "    <tr>\n",
       "      <th>55-64</th>\n",
       "      <td>5.022308</td>\n",
       "      <td>0.101837</td>\n",
       "      <td>0.020307</td>\n",
       "    </tr>\n",
       "    <tr>\n",
       "      <th>65+</th>\n",
       "      <td>5.012347</td>\n",
       "      <td>0.151289</td>\n",
       "      <td>0.029803</td>\n",
       "    </tr>\n",
       "  </tbody>\n",
       "</table>\n",
       "</div>"
      ],
      "text/plain": [
       "          Impressions mean  Clicks mean       CTR\n",
       "AgeGroup                                         \n",
       "18-24             5.006635     0.048455  0.009720\n",
       "25-34             4.993829     0.050486  0.010146\n",
       "35-44             5.021507     0.051679  0.010286\n",
       "45-54             5.010406     0.050274  0.009958\n",
       "55-64             5.022308     0.101837  0.020307\n",
       "65+               5.012347     0.151289  0.029803"
      ]
     },
     "execution_count": 17,
     "metadata": {},
     "output_type": "execute_result"
    }
   ],
   "source": [
    "result_data = lab_data.groupby(\"AgeGroup\").mean()\n",
    "result_data = result_data.drop(columns=\"Age\")\n",
    "result_data.rename(columns={\"Impressions\": \"Impressions mean\", \"Clicks\": \"Clicks mean\"}, inplace=True)\n",
    "result_data"
   ]
  },
  {
   "cell_type": "code",
   "execution_count": 18,
   "metadata": {},
   "outputs": [
    {
     "data": {
      "text/plain": [
       "<AxesSubplot: xlabel='AgeGroup'>"
      ]
     },
     "execution_count": 18,
     "metadata": {},
     "output_type": "execute_result"
    },
    {
     "data": {
      "image/png": "[encoded data removed]",
      "text/plain": [
       "<Figure size 640x480 with 1 Axes>"
      ]
     },
     "metadata": {},
     "output_type": "display_data"
    }
   ],
   "source": [
    "result_data.CTR.plot(kind=\"bar\")"
   ]
  },
  {
   "cell_type": "code",
   "execution_count": 19,
   "metadata": {},
   "outputs": [
    {
     "data": {
      "text/plain": [
       "<AxesSubplot: xlabel='AgeGroup'>"
      ]
     },
     "execution_count": 19,
     "metadata": {},
     "output_type": "execute_result"
    },
    {
     "data": {
      "image/png": "[encoded data removed]",
      "text/plain": [
       "<Figure size 640x480 with 1 Axes>"
      ]
     },
     "metadata": {},
     "output_type": "display_data"
    }
   ],
   "source": [
    "result_data[\"CTRQuantile\"] = lab_data.groupby(\"AgeGroup\").CTR.quantile(q=0.95)\n",
    "result_data.CTRQuantile.plot(kind=\"bar\")"
   ]
  },
  {
   "cell_type": "code",
   "execution_count": 20,
   "metadata": {},
   "outputs": [
    {
     "data": {
      "text/plain": [
       "<AxesSubplot: xlabel='AgeGroup'>"
      ]
     },
     "execution_count": 20,
     "metadata": {},
     "output_type": "execute_result"
    },
    {
     "data": {
      "image/png": "[encoded data removed]",
      "text/plain": [
       "<Figure size 640x480 with 1 Axes>"
      ]
     },
     "metadata": {},
     "output_type": "display_data"
    }
   ],
   "source": [
    "result_data[\"MaxImpressions\"] = lab_data.groupby(\"AgeGroup\").Impressions.max()\n",
    "result_data[\"MaxImpressions\"].plot(kind=\"bar\")"
   ]
  },
  {
   "cell_type": "code",
   "execution_count": 21,
   "metadata": {},
   "outputs": [
    {
     "data": {
      "text/plain": [
       "<AxesSubplot: xlabel='AgeGroup'>"
      ]
     },
     "execution_count": 21,
     "metadata": {},
     "output_type": "execute_result"
    },
    {
     "data": {
      "image/png": "[encoded data removed]",
      "text/plain": [
       "<Figure size 640x480 with 1 Axes>"
      ]
     },
     "metadata": {},
     "output_type": "display_data"
    }
   ],
   "source": [
    "result_data[\"MaxClicks\"] = lab_data.groupby(\"AgeGroup\").Clicks.max()\n",
    "result_data[\"MaxClicks\"].plot(kind=\"bar\")"
   ]
  },
  {
   "cell_type": "code",
   "execution_count": 22,
   "metadata": {},
   "outputs": [
    {
     "data": {
      "text/plain": [
       "<AxesSubplot: xlabel='AgeGroup'>"
      ]
     },
     "execution_count": 22,
     "metadata": {},
     "output_type": "execute_result"
    },
    {
     "data": {
      "image/png": "[encoded data removed]",
      "text/plain": [
       "<Figure size 640x480 with 1 Axes>"
      ]
     },
     "metadata": {},
     "output_type": "display_data"
    }
   ],
   "source": [
    "result_data[\"ImpressionsDispersion\"] = lab_data.groupby(\"AgeGroup\").Impressions.std()\n",
    "result_data[\"ImpressionsDispersion\"].plot(kind=\"bar\")"
   ]
  },
  {
   "cell_type": "code",
   "execution_count": 23,
   "metadata": {},
   "outputs": [
    {
     "data": {
      "text/plain": [
       "<AxesSubplot: xlabel='AgeGroup'>"
      ]
     },
     "execution_count": 23,
     "metadata": {},
     "output_type": "execute_result"
    },
    {
     "data": {
      "image/png": "[encoded data removed]",
      "text/plain": [
       "<Figure size 640x480 with 1 Axes>"
      ]
     },
     "metadata": {},
     "output_type": "display_data"
    }
   ],
   "source": [
    "result_data[\"ClicksDispersion\"] = lab_data.groupby(\"AgeGroup\").Clicks.std()\n",
    "result_data[\"ClicksDispersion\"].plot(kind=\"bar\")"
   ]
  },
  {
   "cell_type": "code",
   "execution_count": 24,
   "metadata": {},
   "outputs": [],
   "source": [
    "def analyze_day(day):\n",
    "    data_day = pd.read_csv(f\"./data/nyt{day}.csv\")\n",
    "    data_day_no_null_age = data_day[(data_day.Age > 0) & (data_day.Signed_In == 1)]\n",
    "    grouped_age_data = data_day_no_null_age\n",
    "    grouped_age_data[\"age_group\"] = grouped_age_data.Age.apply(lambda x: extract_age_group(x))\n",
    "\n",
    "    lab_data_day = grouped_age_data[grouped_age_data.Age > 18]\n",
    "    lab_data_day = lab_data_day.drop(columns=\"Signed_In\")\n",
    "    lab_data_day[\"Gender\"] = lab_data_day.Gender.apply(lambda x: extract_gender(x))\n",
    "    lab_data_day[\"CTR\"] = lab_data_day.Clicks / lab_data_day.Impressions\n",
    "\n",
    "    result_data_day = lab_data_day.groupby(\"age_group\").mean()\n",
    "    result_data_day = result_data_day.drop(columns=\"Age\")\n",
    "    result_data_day.rename(columns={\"Impressions\": \"Impressions mean\", \"Clicks\": \"Clicks mean\"}, inplace=True)\n",
    "    result_data_day[\"CTR quantile\"] = lab_data_day.groupby(\"age_group\").CTR.quantile(q=0.95)\n",
    "    result_data_day[\"Impressions max\"] = lab_data_day.groupby(\"age_group\").Impressions.max()\n",
    "    result_data_day[\"Clicks max\"] = lab_data_day.groupby(\"age_group\").Clicks.max()\n",
    "    result_data_day[\"Impressions dispersion\"] = lab_data_day.groupby(\"age_group\").Impressions.std()\n",
    "    result_data_day[\"Clicks dispersion\"] = lab_data_day.groupby(\"age_group\").Clicks.std()\n",
    "\n",
    "    return result_data_day"
   ]
  },
  {
   "cell_type": "code",
   "execution_count": 25,
   "metadata": {},
   "outputs": [
    {
     "name": "stderr",
     "output_type": "stream",
     "text": [
      "C:\\Users\\awaqi\\AppData\\Local\\Temp\\ipykernel_9468\\1925347275.py:5: SettingWithCopyWarning: \n",
      "A value is trying to be set on a copy of a slice from a DataFrame.\n",
      "Try using .loc[row_indexer,col_indexer] = value instead\n",
      "\n",
      "See the caveats in the documentation: https://pandas.pydata.org/pandas-docs/stable/user_guide/indexing.html#returning-a-view-versus-a-copy\n",
      "  grouped_age_data[\"age_group\"] = grouped_age_data.Age.apply(lambda x: extract_age_group(x))\n",
      "C:\\Users\\awaqi\\AppData\\Local\\Temp\\ipykernel_9468\\1925347275.py:12: FutureWarning: The default value of numeric_only in DataFrameGroupBy.mean is deprecated. In a future version, numeric_only will default to False. Either specify numeric_only or select only columns which should be valid for the function.\n",
      "  result_data_day = lab_data_day.groupby(\"age_group\").mean()\n"
     ]
    },
    {
     "data": {
      "text/html": [
       "<div>\n",
       "<style scoped>\n",
       "    .dataframe tbody tr th:only-of-type {\n",
       "        vertical-align: middle;\n",
       "    }\n",
       "\n",
       "    .dataframe tbody tr th {\n",
       "        vertical-align: top;\n",
       "    }\n",
       "\n",
       "    .dataframe thead th {\n",
       "        text-align: right;\n",
       "    }\n",
       "</style>\n",
       "<table border=\"1\" class=\"dataframe\">\n",
       "  <thead>\n",
       "    <tr style=\"text-align: right;\">\n",
       "      <th></th>\n",
       "      <th>Impressions mean</th>\n",
       "      <th>Clicks mean</th>\n",
       "      <th>CTR</th>\n",
       "      <th>CTR quantile</th>\n",
       "      <th>Impressions max</th>\n",
       "      <th>Clicks max</th>\n",
       "      <th>Impressions dispersion</th>\n",
       "      <th>Clicks dispersion</th>\n",
       "    </tr>\n",
       "    <tr>\n",
       "      <th>age_group</th>\n",
       "      <th></th>\n",
       "      <th></th>\n",
       "      <th></th>\n",
       "      <th></th>\n",
       "      <th></th>\n",
       "      <th></th>\n",
       "      <th></th>\n",
       "      <th></th>\n",
       "    </tr>\n",
       "  </thead>\n",
       "  <tbody>\n",
       "    <tr>\n",
       "      <th>18-24</th>\n",
       "      <td>4.986214</td>\n",
       "      <td>0.051783</td>\n",
       "      <td>0.010309</td>\n",
       "      <td>0.090909</td>\n",
       "      <td>16</td>\n",
       "      <td>3</td>\n",
       "      <td>2.248052</td>\n",
       "      <td>0.227396</td>\n",
       "    </tr>\n",
       "    <tr>\n",
       "      <th>25-34</th>\n",
       "      <td>5.007083</td>\n",
       "      <td>0.050230</td>\n",
       "      <td>0.010153</td>\n",
       "      <td>0.000000</td>\n",
       "      <td>18</td>\n",
       "      <td>3</td>\n",
       "      <td>2.235247</td>\n",
       "      <td>0.223983</td>\n",
       "    </tr>\n",
       "    <tr>\n",
       "      <th>35-44</th>\n",
       "      <td>4.987068</td>\n",
       "      <td>0.051019</td>\n",
       "      <td>0.010196</td>\n",
       "      <td>0.072802</td>\n",
       "      <td>16</td>\n",
       "      <td>3</td>\n",
       "      <td>2.226515</td>\n",
       "      <td>0.225955</td>\n",
       "    </tr>\n",
       "    <tr>\n",
       "      <th>45-54</th>\n",
       "      <td>4.994392</td>\n",
       "      <td>0.051227</td>\n",
       "      <td>0.010316</td>\n",
       "      <td>0.076923</td>\n",
       "      <td>17</td>\n",
       "      <td>3</td>\n",
       "      <td>2.228464</td>\n",
       "      <td>0.227166</td>\n",
       "    </tr>\n",
       "    <tr>\n",
       "      <th>55-64</th>\n",
       "      <td>5.020435</td>\n",
       "      <td>0.101605</td>\n",
       "      <td>0.020152</td>\n",
       "      <td>0.166667</td>\n",
       "      <td>16</td>\n",
       "      <td>3</td>\n",
       "      <td>2.240195</td>\n",
       "      <td>0.318949</td>\n",
       "    </tr>\n",
       "    <tr>\n",
       "      <th>65+</th>\n",
       "      <td>4.996207</td>\n",
       "      <td>0.146399</td>\n",
       "      <td>0.029019</td>\n",
       "      <td>0.200000</td>\n",
       "      <td>17</td>\n",
       "      <td>3</td>\n",
       "      <td>2.225281</td>\n",
       "      <td>0.383437</td>\n",
       "    </tr>\n",
       "  </tbody>\n",
       "</table>\n",
       "</div>"
      ],
      "text/plain": [
       "           Impressions mean  Clicks mean       CTR  CTR quantile  \\\n",
       "age_group                                                          \n",
       "18-24              4.986214     0.051783  0.010309      0.090909   \n",
       "25-34              5.007083     0.050230  0.010153      0.000000   \n",
       "35-44              4.987068     0.051019  0.010196      0.072802   \n",
       "45-54              4.994392     0.051227  0.010316      0.076923   \n",
       "55-64              5.020435     0.101605  0.020152      0.166667   \n",
       "65+                4.996207     0.146399  0.029019      0.200000   \n",
       "\n",
       "           Impressions max  Clicks max  Impressions dispersion  \\\n",
       "age_group                                                        \n",
       "18-24                   16           3                2.248052   \n",
       "25-34                   18           3                2.235247   \n",
       "35-44                   16           3                2.226515   \n",
       "45-54                   17           3                2.228464   \n",
       "55-64                   16           3                2.240195   \n",
       "65+                     17           3                2.225281   \n",
       "\n",
       "           Clicks dispersion  \n",
       "age_group                     \n",
       "18-24               0.227396  \n",
       "25-34               0.223983  \n",
       "35-44               0.225955  \n",
       "45-54               0.227166  \n",
       "55-64               0.318949  \n",
       "65+                 0.383437  "
      ]
     },
     "execution_count": 25,
     "metadata": {},
     "output_type": "execute_result"
    }
   ],
   "source": [
    "analyze_day(2)"
   ]
  },
  {
   "cell_type": "code",
   "execution_count": 26,
   "metadata": {},
   "outputs": [
    {
     "name": "stderr",
     "output_type": "stream",
     "text": [
      "C:\\Users\\awaqi\\AppData\\Local\\Temp\\ipykernel_9468\\1925347275.py:5: SettingWithCopyWarning: \n",
      "A value is trying to be set on a copy of a slice from a DataFrame.\n",
      "Try using .loc[row_indexer,col_indexer] = value instead\n",
      "\n",
      "See the caveats in the documentation: https://pandas.pydata.org/pandas-docs/stable/user_guide/indexing.html#returning-a-view-versus-a-copy\n",
      "  grouped_age_data[\"age_group\"] = grouped_age_data.Age.apply(lambda x: extract_age_group(x))\n",
      "C:\\Users\\awaqi\\AppData\\Local\\Temp\\ipykernel_9468\\1925347275.py:12: FutureWarning: The default value of numeric_only in DataFrameGroupBy.mean is deprecated. In a future version, numeric_only will default to False. Either specify numeric_only or select only columns which should be valid for the function.\n",
      "  result_data_day = lab_data_day.groupby(\"age_group\").mean()\n"
     ]
    },
    {
     "data": {
      "text/html": [
       "<div>\n",
       "<style scoped>\n",
       "    .dataframe tbody tr th:only-of-type {\n",
       "        vertical-align: middle;\n",
       "    }\n",
       "\n",
       "    .dataframe tbody tr th {\n",
       "        vertical-align: top;\n",
       "    }\n",
       "\n",
       "    .dataframe thead th {\n",
       "        text-align: right;\n",
       "    }\n",
       "</style>\n",
       "<table border=\"1\" class=\"dataframe\">\n",
       "  <thead>\n",
       "    <tr style=\"text-align: right;\">\n",
       "      <th></th>\n",
       "      <th>Impressions mean</th>\n",
       "      <th>Clicks mean</th>\n",
       "      <th>CTR</th>\n",
       "      <th>CTR quantile</th>\n",
       "      <th>Impressions max</th>\n",
       "      <th>Clicks max</th>\n",
       "      <th>Impressions dispersion</th>\n",
       "      <th>Clicks dispersion</th>\n",
       "    </tr>\n",
       "    <tr>\n",
       "      <th>age_group</th>\n",
       "      <th></th>\n",
       "      <th></th>\n",
       "      <th></th>\n",
       "      <th></th>\n",
       "      <th></th>\n",
       "      <th></th>\n",
       "      <th></th>\n",
       "      <th></th>\n",
       "    </tr>\n",
       "  </thead>\n",
       "  <tbody>\n",
       "    <tr>\n",
       "      <th>18-24</th>\n",
       "      <td>4.996505</td>\n",
       "      <td>0.050703</td>\n",
       "      <td>0.010121</td>\n",
       "      <td>0.000000</td>\n",
       "      <td>18</td>\n",
       "      <td>2</td>\n",
       "      <td>2.227506</td>\n",
       "      <td>0.226175</td>\n",
       "    </tr>\n",
       "    <tr>\n",
       "      <th>25-34</th>\n",
       "      <td>4.996425</td>\n",
       "      <td>0.049663</td>\n",
       "      <td>0.009916</td>\n",
       "      <td>0.000000</td>\n",
       "      <td>17</td>\n",
       "      <td>3</td>\n",
       "      <td>2.229427</td>\n",
       "      <td>0.224374</td>\n",
       "    </tr>\n",
       "    <tr>\n",
       "      <th>35-44</th>\n",
       "      <td>5.008378</td>\n",
       "      <td>0.050715</td>\n",
       "      <td>0.010311</td>\n",
       "      <td>0.000000</td>\n",
       "      <td>19</td>\n",
       "      <td>3</td>\n",
       "      <td>2.238517</td>\n",
       "      <td>0.225372</td>\n",
       "    </tr>\n",
       "    <tr>\n",
       "      <th>45-54</th>\n",
       "      <td>4.984925</td>\n",
       "      <td>0.048965</td>\n",
       "      <td>0.009949</td>\n",
       "      <td>0.000000</td>\n",
       "      <td>16</td>\n",
       "      <td>3</td>\n",
       "      <td>2.225881</td>\n",
       "      <td>0.221717</td>\n",
       "    </tr>\n",
       "    <tr>\n",
       "      <th>55-64</th>\n",
       "      <td>5.002101</td>\n",
       "      <td>0.099940</td>\n",
       "      <td>0.020073</td>\n",
       "      <td>0.166667</td>\n",
       "      <td>16</td>\n",
       "      <td>3</td>\n",
       "      <td>2.232905</td>\n",
       "      <td>0.314726</td>\n",
       "    </tr>\n",
       "    <tr>\n",
       "      <th>65+</th>\n",
       "      <td>4.986910</td>\n",
       "      <td>0.151563</td>\n",
       "      <td>0.030305</td>\n",
       "      <td>0.200000</td>\n",
       "      <td>16</td>\n",
       "      <td>4</td>\n",
       "      <td>2.236634</td>\n",
       "      <td>0.389456</td>\n",
       "    </tr>\n",
       "  </tbody>\n",
       "</table>\n",
       "</div>"
      ],
      "text/plain": [
       "           Impressions mean  Clicks mean       CTR  CTR quantile  \\\n",
       "age_group                                                          \n",
       "18-24              4.996505     0.050703  0.010121      0.000000   \n",
       "25-34              4.996425     0.049663  0.009916      0.000000   \n",
       "35-44              5.008378     0.050715  0.010311      0.000000   \n",
       "45-54              4.984925     0.048965  0.009949      0.000000   \n",
       "55-64              5.002101     0.099940  0.020073      0.166667   \n",
       "65+                4.986910     0.151563  0.030305      0.200000   \n",
       "\n",
       "           Impressions max  Clicks max  Impressions dispersion  \\\n",
       "age_group                                                        \n",
       "18-24                   18           2                2.227506   \n",
       "25-34                   17           3                2.229427   \n",
       "35-44                   19           3                2.238517   \n",
       "45-54                   16           3                2.225881   \n",
       "55-64                   16           3                2.232905   \n",
       "65+                     16           4                2.236634   \n",
       "\n",
       "           Clicks dispersion  \n",
       "age_group                     \n",
       "18-24               0.226175  \n",
       "25-34               0.224374  \n",
       "35-44               0.225372  \n",
       "45-54               0.221717  \n",
       "55-64               0.314726  \n",
       "65+                 0.389456  "
      ]
     },
     "execution_count": 26,
     "metadata": {},
     "output_type": "execute_result"
    }
   ],
   "source": [
    "analyze_day(3)"
   ]
  },
  {
   "cell_type": "code",
   "execution_count": 27,
   "metadata": {},
   "outputs": [
    {
     "name": "stderr",
     "output_type": "stream",
     "text": [
      "C:\\Users\\awaqi\\AppData\\Local\\Temp\\ipykernel_9468\\1925347275.py:5: SettingWithCopyWarning: \n",
      "A value is trying to be set on a copy of a slice from a DataFrame.\n",
      "Try using .loc[row_indexer,col_indexer] = value instead\n",
      "\n",
      "See the caveats in the documentation: https://pandas.pydata.org/pandas-docs/stable/user_guide/indexing.html#returning-a-view-versus-a-copy\n",
      "  grouped_age_data[\"age_group\"] = grouped_age_data.Age.apply(lambda x: extract_age_group(x))\n",
      "C:\\Users\\awaqi\\AppData\\Local\\Temp\\ipykernel_9468\\1925347275.py:12: FutureWarning: The default value of numeric_only in DataFrameGroupBy.mean is deprecated. In a future version, numeric_only will default to False. Either specify numeric_only or select only columns which should be valid for the function.\n",
      "  result_data_day = lab_data_day.groupby(\"age_group\").mean()\n"
     ]
    },
    {
     "data": {
      "text/html": [
       "<div>\n",
       "<style scoped>\n",
       "    .dataframe tbody tr th:only-of-type {\n",
       "        vertical-align: middle;\n",
       "    }\n",
       "\n",
       "    .dataframe tbody tr th {\n",
       "        vertical-align: top;\n",
       "    }\n",
       "\n",
       "    .dataframe thead th {\n",
       "        text-align: right;\n",
       "    }\n",
       "</style>\n",
       "<table border=\"1\" class=\"dataframe\">\n",
       "  <thead>\n",
       "    <tr style=\"text-align: right;\">\n",
       "      <th></th>\n",
       "      <th>Impressions mean</th>\n",
       "      <th>Clicks mean</th>\n",
       "      <th>CTR</th>\n",
       "      <th>CTR quantile</th>\n",
       "      <th>Impressions max</th>\n",
       "      <th>Clicks max</th>\n",
       "      <th>Impressions dispersion</th>\n",
       "      <th>Clicks dispersion</th>\n",
       "    </tr>\n",
       "    <tr>\n",
       "      <th>age_group</th>\n",
       "      <th></th>\n",
       "      <th></th>\n",
       "      <th></th>\n",
       "      <th></th>\n",
       "      <th></th>\n",
       "      <th></th>\n",
       "      <th></th>\n",
       "      <th></th>\n",
       "    </tr>\n",
       "  </thead>\n",
       "  <tbody>\n",
       "    <tr>\n",
       "      <th>18-24</th>\n",
       "      <td>4.998862</td>\n",
       "      <td>0.049008</td>\n",
       "      <td>0.009717</td>\n",
       "      <td>0.000000</td>\n",
       "      <td>16</td>\n",
       "      <td>3</td>\n",
       "      <td>2.251371</td>\n",
       "      <td>0.221623</td>\n",
       "    </tr>\n",
       "    <tr>\n",
       "      <th>25-34</th>\n",
       "      <td>4.994947</td>\n",
       "      <td>0.050135</td>\n",
       "      <td>0.010148</td>\n",
       "      <td>0.000000</td>\n",
       "      <td>17</td>\n",
       "      <td>3</td>\n",
       "      <td>2.240874</td>\n",
       "      <td>0.223034</td>\n",
       "    </tr>\n",
       "    <tr>\n",
       "      <th>35-44</th>\n",
       "      <td>4.997100</td>\n",
       "      <td>0.050827</td>\n",
       "      <td>0.010060</td>\n",
       "      <td>0.000000</td>\n",
       "      <td>17</td>\n",
       "      <td>3</td>\n",
       "      <td>2.232983</td>\n",
       "      <td>0.225663</td>\n",
       "    </tr>\n",
       "    <tr>\n",
       "      <th>45-54</th>\n",
       "      <td>4.987168</td>\n",
       "      <td>0.051295</td>\n",
       "      <td>0.010065</td>\n",
       "      <td>0.083333</td>\n",
       "      <td>17</td>\n",
       "      <td>3</td>\n",
       "      <td>2.233218</td>\n",
       "      <td>0.226401</td>\n",
       "    </tr>\n",
       "    <tr>\n",
       "      <th>55-64</th>\n",
       "      <td>5.007956</td>\n",
       "      <td>0.100752</td>\n",
       "      <td>0.020192</td>\n",
       "      <td>0.166667</td>\n",
       "      <td>17</td>\n",
       "      <td>3</td>\n",
       "      <td>2.233261</td>\n",
       "      <td>0.317994</td>\n",
       "    </tr>\n",
       "    <tr>\n",
       "      <th>65+</th>\n",
       "      <td>5.029751</td>\n",
       "      <td>0.149906</td>\n",
       "      <td>0.029551</td>\n",
       "      <td>0.200000</td>\n",
       "      <td>16</td>\n",
       "      <td>3</td>\n",
       "      <td>2.234815</td>\n",
       "      <td>0.387375</td>\n",
       "    </tr>\n",
       "  </tbody>\n",
       "</table>\n",
       "</div>"
      ],
      "text/plain": [
       "           Impressions mean  Clicks mean       CTR  CTR quantile  \\\n",
       "age_group                                                          \n",
       "18-24              4.998862     0.049008  0.009717      0.000000   \n",
       "25-34              4.994947     0.050135  0.010148      0.000000   \n",
       "35-44              4.997100     0.050827  0.010060      0.000000   \n",
       "45-54              4.987168     0.051295  0.010065      0.083333   \n",
       "55-64              5.007956     0.100752  0.020192      0.166667   \n",
       "65+                5.029751     0.149906  0.029551      0.200000   \n",
       "\n",
       "           Impressions max  Clicks max  Impressions dispersion  \\\n",
       "age_group                                                        \n",
       "18-24                   16           3                2.251371   \n",
       "25-34                   17           3                2.240874   \n",
       "35-44                   17           3                2.232983   \n",
       "45-54                   17           3                2.233218   \n",
       "55-64                   17           3                2.233261   \n",
       "65+                     16           3                2.234815   \n",
       "\n",
       "           Clicks dispersion  \n",
       "age_group                     \n",
       "18-24               0.221623  \n",
       "25-34               0.223034  \n",
       "35-44               0.225663  \n",
       "45-54               0.226401  \n",
       "55-64               0.317994  \n",
       "65+                 0.387375  "
      ]
     },
     "execution_count": 27,
     "metadata": {},
     "output_type": "execute_result"
    }
   ],
   "source": [
    "analyze_day(4)"
   ]
  },
  {
   "cell_type": "code",
   "execution_count": 28,
   "metadata": {},
   "outputs": [
    {
     "name": "stderr",
     "output_type": "stream",
     "text": [
      "C:\\Users\\awaqi\\AppData\\Local\\Temp\\ipykernel_9468\\1925347275.py:5: SettingWithCopyWarning: \n",
      "A value is trying to be set on a copy of a slice from a DataFrame.\n",
      "Try using .loc[row_indexer,col_indexer] = value instead\n",
      "\n",
      "See the caveats in the documentation: https://pandas.pydata.org/pandas-docs/stable/user_guide/indexing.html#returning-a-view-versus-a-copy\n",
      "  grouped_age_data[\"age_group\"] = grouped_age_data.Age.apply(lambda x: extract_age_group(x))\n",
      "C:\\Users\\awaqi\\AppData\\Local\\Temp\\ipykernel_9468\\1925347275.py:12: FutureWarning: The default value of numeric_only in DataFrameGroupBy.mean is deprecated. In a future version, numeric_only will default to False. Either specify numeric_only or select only columns which should be valid for the function.\n",
      "  result_data_day = lab_data_day.groupby(\"age_group\").mean()\n"
     ]
    },
    {
     "data": {
      "text/plain": [
       "<AxesSubplot: xlabel='age_group'>"
      ]
     },
     "execution_count": 28,
     "metadata": {},
     "output_type": "execute_result"
    },
    {
     "data": {
      "image/png": "[encoded data removed]",
      "text/plain": [
       "<Figure size 640x480 with 1 Axes>"
      ]
     },
     "metadata": {},
     "output_type": "display_data"
    }
   ],
   "source": [
    "ax = result_data.CTR.plot()\n",
    "analyze_day(2).CTR.plot(ax=ax)"
   ]
  }
 ],
 "metadata": {
  "kernelspec": {
   "display_name": "Python 3 (ipykernel)",
   "language": "python",
   "name": "python3"
  },
  "language_info": {
   "codemirror_mode": {
    "name": "ipython",
    "version": 3
   },
   "file_extension": ".py",
   "mimetype": "text/x-python",
   "name": "python",
   "nbconvert_exporter": "python",
   "pygments_lexer": "ipython3",
   "version": "3.11.0"
  }
 },
 "nbformat": 4,
 "nbformat_minor": 1
}
